{
 "cells": [
  {
   "cell_type": "markdown",
   "metadata": {},
   "source": [
    "## Comments for Q1 to Q5"
   ]
  },
  {
   "cell_type": "markdown",
   "metadata": {},
   "source": [
    "<span style=\"color: red;\"> \n",
    "Q1: 4/4\n",
    "\n",
    "Q2: 5/5 \n",
    "\n",
    "Q3: 14/15 – no mention of the used log scale in the axis label\n",
    "\n",
    "Q4: 19/15 – didn’t consider the ‘nan’ case.\n",
    "\n",
    "Q5: 3/5 – for 1st part you mention 1.f (normal) but result is for 0.f (subnormal), for 2nd part you didn’t write how f will look like.\n",
    "\n",
    "</span>"
   ]
  },
  {
   "cell_type": "markdown",
   "metadata": {},
   "source": [
    "6.> \n",
    "(1) the code for factorial of any number-\n"
   ]
  },
  {
   "cell_type": "code",
   "execution_count": 6,
   "metadata": {},
   "outputs": [
    {
     "data": {
      "text/plain": [
       "24"
      ]
     },
     "execution_count": 6,
     "metadata": {},
     "output_type": "execute_result"
    }
   ],
   "source": [
    "def factorial(n):\n",
    "    f=1\n",
    "    while n>0:\n",
    "        f=f*n\n",
    "        n=n-1\n",
    "    return f\n",
    "factorial(4)"
   ]
  },
  {
   "cell_type": "markdown",
   "metadata": {},
   "source": [
    "## <span style=\"color: red;\"> 5 </span>"
   ]
  },
  {
   "cell_type": "markdown",
   "metadata": {},
   "source": [
    "(6.2)"
   ]
  },
  {
   "cell_type": "code",
   "execution_count": 12,
   "metadata": {},
   "outputs": [
    {
     "data": {
      "text/plain": [
       "485165195.40979016"
      ]
     },
     "execution_count": 12,
     "metadata": {},
     "output_type": "execute_result"
    }
   ],
   "source": [
    "def exponential(x):\n",
    " w=1\n",
    " i=0\n",
    " exp=0\n",
    " while abs(w)>0: \n",
    "  w1=x**i\n",
    "  w2=factorial(i)\n",
    "  w=(w1/w2)\n",
    "  exp=exp+w \n",
    "  i=i+1\n",
    " return exp\n",
    "\n",
    "exponential(20)"
   ]
  },
  {
   "cell_type": "markdown",
   "metadata": {},
   "source": [
    "## <span style=\"color: red;\"> 6 </span>\n",
    "\n",
    "## <span style=\"color: red;\"> You didn't applied the termination condition mentioned in the question. It should be if exp + w == exp:  # Termination condition (if exp = exp + w then break ) </span>\n",
    "\n",
    "In your case At some point, \n",
    "w becomes so small that the system considers it zero, and abs(w) > 0 evaluates as False, causing the loop to terminate."
   ]
  },
  {
   "cell_type": "markdown",
   "metadata": {},
   "source": [
    "(6.3)"
   ]
  },
  {
   "cell_type": "code",
   "execution_count": 13,
   "metadata": {},
   "outputs": [
    {
     "name": "stdout",
     "output_type": "stream",
     "text": [
      "e^0.1 = 1.1051709180756473 (calculated in 0.00015926361083984375 seconds)\n",
      "e^20 = 485165195.40979016 (calculated in 0.003776073455810547 seconds)\n"
     ]
    }
   ],
   "source": [
    "import time\n",
    "xv = [0.1, 20]\n",
    "for x in xv:\n",
    "        start_time = time.time()  # Start timing\n",
    "        result = exponential(x)\n",
    "        end_time = time.time()  # End timing\n",
    "        \n",
    "        elapsed_time = end_time - start_time\n",
    "        print(f\"e^{x} = {result} (calculated in {elapsed_time} seconds)\")"
   ]
  },
  {
   "cell_type": "markdown",
   "metadata": {},
   "source": [
    "## <span style=\"color: red;\"> 2</span>"
   ]
  },
  {
   "cell_type": "markdown",
   "metadata": {},
   "source": [
    "(6.4)"
   ]
  },
  {
   "cell_type": "code",
   "execution_count": 14,
   "metadata": {},
   "outputs": [
    {
     "name": "stdout",
     "output_type": "stream",
     "text": [
      "1  term \n",
      "1  partial sum  1.1\n",
      "2  term \n",
      "2  partial sum  1.105\n",
      "3  term \n",
      "3  partial sum  1.1051666666666666\n",
      "4  term \n",
      "4  partial sum  1.1051708333333332\n",
      "5  term \n",
      "5  partial sum  1.1051709166666666\n",
      "6  term \n",
      "6  partial sum  1.1051709180555553\n",
      "7  term \n",
      "7  partial sum  1.1051709180753966\n",
      "8  term \n",
      "8  partial sum  1.1051709180756446\n",
      "9  term \n",
      "9  partial sum  1.1051709180756473\n",
      "10  term \n",
      "10  partial sum  1.1051709180756473\n",
      "11  term \n",
      "11  partial sum  1.1051709180756473\n",
      "12  term \n",
      "12  partial sum  1.1051709180756473\n",
      "13  term \n",
      "13  partial sum  1.1051709180756473\n",
      "14  term \n",
      "14  partial sum  1.1051709180756473\n",
      "15  term \n",
      "15  partial sum  1.1051709180756473\n",
      "16  term \n",
      "16  partial sum  1.1051709180756473\n",
      "17  term \n",
      "17  partial sum  1.1051709180756473\n",
      "18  term \n",
      "18  partial sum  1.1051709180756473\n",
      "19  term \n",
      "19  partial sum  1.1051709180756473\n",
      "20  term \n",
      "20  partial sum  1.1051709180756473\n",
      "21  term \n",
      "21  partial sum  1.1051709180756473\n",
      "22  term \n",
      "22  partial sum  1.1051709180756473\n",
      "23  term \n",
      "23  partial sum  1.1051709180756473\n",
      "24  term \n",
      "24  partial sum  1.1051709180756473\n",
      "25  term \n",
      "25  partial sum  1.1051709180756473\n",
      "26  term \n",
      "26  partial sum  1.1051709180756473\n",
      "27  term \n",
      "27  partial sum  1.1051709180756473\n",
      "28  term \n",
      "28  partial sum  1.1051709180756473\n",
      "29  term \n",
      "29  partial sum  1.1051709180756473\n",
      "30  term \n",
      "30  partial sum  1.1051709180756473\n",
      "31  term \n",
      "31  partial sum  1.1051709180756473\n",
      "32  term \n",
      "32  partial sum  1.1051709180756473\n",
      "33  term \n",
      "33  partial sum  1.1051709180756473\n",
      "34  term \n",
      "34  partial sum  1.1051709180756473\n",
      "35  term \n",
      "35  partial sum  1.1051709180756473\n",
      "36  term \n",
      "36  partial sum  1.1051709180756473\n",
      "37  term \n",
      "37  partial sum  1.1051709180756473\n",
      "38  term \n",
      "38  partial sum  1.1051709180756473\n",
      "39  term \n",
      "39  partial sum  1.1051709180756473\n",
      "40  term \n",
      "40  partial sum  1.1051709180756473\n",
      "41  term \n",
      "41  partial sum  1.1051709180756473\n",
      "42  term \n",
      "42  partial sum  1.1051709180756473\n",
      "43  term \n",
      "43  partial sum  1.1051709180756473\n",
      "44  term \n",
      "44  partial sum  1.1051709180756473\n",
      "45  term \n",
      "45  partial sum  1.1051709180756473\n",
      "46  term \n",
      "46  partial sum  1.1051709180756473\n",
      "47  term \n",
      "47  partial sum  1.1051709180756473\n",
      "48  term \n",
      "48  partial sum  1.1051709180756473\n",
      "49  term \n",
      "49  partial sum  1.1051709180756473\n",
      "50  term \n",
      "50  partial sum  1.1051709180756473\n",
      "51  term \n",
      "51  partial sum  1.1051709180756473\n",
      "52  term \n",
      "52  partial sum  1.1051709180756473\n",
      "53  term \n",
      "53  partial sum  1.1051709180756473\n",
      "54  term \n",
      "54  partial sum  1.1051709180756473\n",
      "55  term \n",
      "55  partial sum  1.1051709180756473\n",
      "56  term \n",
      "56  partial sum  1.1051709180756473\n",
      "57  term \n",
      "57  partial sum  1.1051709180756473\n",
      "58  term \n",
      "58  partial sum  1.1051709180756473\n",
      "59  term \n",
      "59  partial sum  1.1051709180756473\n",
      "60  term \n",
      "60  partial sum  1.1051709180756473\n",
      "61  term \n",
      "61  partial sum  1.1051709180756473\n",
      "62  term \n",
      "62  partial sum  1.1051709180756473\n",
      "63  term \n",
      "63  partial sum  1.1051709180756473\n",
      "64  term \n",
      "64  partial sum  1.1051709180756473\n",
      "65  term \n",
      "65  partial sum  1.1051709180756473\n",
      "66  term \n",
      "66  partial sum  1.1051709180756473\n",
      "67  term \n",
      "67  partial sum  1.1051709180756473\n",
      "68  term \n",
      "68  partial sum  1.1051709180756473\n",
      "69  term \n",
      "69  partial sum  1.1051709180756473\n",
      "70  term \n",
      "70  partial sum  1.1051709180756473\n",
      "71  term \n",
      "71  partial sum  1.1051709180756473\n",
      "72  term \n",
      "72  partial sum  1.1051709180756473\n",
      "73  term \n",
      "73  partial sum  1.1051709180756473\n",
      "74  term \n",
      "74  partial sum  1.1051709180756473\n",
      "75  term \n",
      "75  partial sum  1.1051709180756473\n",
      "76  term \n",
      "76  partial sum  1.1051709180756473\n",
      "77  term \n",
      "77  partial sum  1.1051709180756473\n",
      "78  term \n",
      "78  partial sum  1.1051709180756473\n",
      "79  term \n",
      "79  partial sum  1.1051709180756473\n",
      "80  term \n",
      "80  partial sum  1.1051709180756473\n",
      "81  term \n",
      "81  partial sum  1.1051709180756473\n",
      "82  term \n",
      "82  partial sum  1.1051709180756473\n",
      "83  term \n",
      "83  partial sum  1.1051709180756473\n",
      "84  term \n",
      "84  partial sum  1.1051709180756473\n",
      "85  term \n",
      "85  partial sum  1.1051709180756473\n",
      "86  term \n",
      "86  partial sum  1.1051709180756473\n",
      "87  term \n",
      "87  partial sum  1.1051709180756473\n",
      "88  term \n",
      "88  partial sum  1.1051709180756473\n",
      "89  term \n",
      "89  partial sum  1.1051709180756473\n",
      "90  term \n",
      "90  partial sum  1.1051709180756473\n",
      "91  term \n",
      "91  partial sum  1.1051709180756473\n",
      "92  term \n",
      "92  partial sum  1.1051709180756473\n",
      "93  term \n",
      "93  partial sum  1.1051709180756473\n",
      "94  term \n",
      "94  partial sum  1.1051709180756473\n",
      "95  term \n",
      "95  partial sum  1.1051709180756473\n",
      "96  term \n",
      "96  partial sum  1.1051709180756473\n",
      "97  term \n",
      "97  partial sum  1.1051709180756473\n",
      "98  term \n",
      "98  partial sum  1.1051709180756473\n",
      "99  term \n",
      "99  partial sum  1.1051709180756473\n",
      "100  term \n",
      "100  partial sum  1.1051709180756473\n",
      "101  term \n",
      "101  partial sum  1.1051709180756473\n",
      "102  term \n",
      "102  partial sum  1.1051709180756473\n",
      "103  term \n",
      "103  partial sum  1.1051709180756473\n",
      "104  term \n",
      "104  partial sum  1.1051709180756473\n",
      "105  term \n",
      "105  partial sum  1.1051709180756473\n",
      "106  term \n",
      "106  partial sum  1.1051709180756473\n",
      "107  term \n",
      "107  partial sum  1.1051709180756473\n",
      "108  term \n",
      "108  partial sum  1.1051709180756473\n",
      "109  term \n",
      "109  partial sum  1.1051709180756473\n",
      "110  term \n",
      "110  partial sum  1.1051709180756473\n",
      "111  term \n",
      "111  partial sum  1.1051709180756473\n",
      "112  term \n",
      "112  partial sum  1.1051709180756473\n",
      "113  term \n",
      "113  partial sum  1.1051709180756473\n",
      "114  term \n",
      "114  partial sum  1.1051709180756473\n",
      "115  term \n",
      "115  partial sum  1.1051709180756473\n",
      "116  term \n",
      "116  partial sum  1.1051709180756473\n",
      "117  term \n",
      "117  partial sum  1.1051709180756473\n",
      "118  term \n",
      "118  partial sum  1.1051709180756473\n",
      "119  term \n",
      "119  partial sum  1.1051709180756473\n",
      "120  term \n",
      "120  partial sum  1.1051709180756473\n",
      "121  term \n",
      "121  partial sum  1.1051709180756473\n",
      "122  term \n",
      "122  partial sum  1.1051709180756473\n"
     ]
    },
    {
     "data": {
      "text/plain": [
       "1.1051709180756473"
      ]
     },
     "execution_count": 14,
     "metadata": {},
     "output_type": "execute_result"
    }
   ],
   "source": [
    "def exponential_1(x):\n",
    "    i=1\n",
    "    exp=1\n",
    "    X=1\n",
    "    while abs(X)>0:\n",
    "        X=(x/i)*X\n",
    "        exp=exp+X\n",
    "        print(i,\" term \")\n",
    "        print(i,\" partial sum \",exp)\n",
    "        i=i+1\n",
    "    return exp\n",
    "exponential_1(0.1)\n"
   ]
  },
  {
   "cell_type": "markdown",
   "metadata": {},
   "source": [
    "## you did not applied the termination condition same like before \n",
    "## <span style=\"color: red;\"> 8 </span>"
   ]
  },
  {
   "cell_type": "code",
   "execution_count": null,
   "metadata": {},
   "outputs": [],
   "source": []
  },
  {
   "cell_type": "markdown",
   "metadata": {},
   "source": [
    "(6.5)"
   ]
  },
  {
   "cell_type": "code",
   "execution_count": 224,
   "metadata": {},
   "outputs": [
    {
     "name": "stdout",
     "output_type": "stream",
     "text": [
      "e^0.1 = 1.1051709180756473 (calculated in 1.8835067749023438e-05 seconds)\n",
      "e^20 = 485165195.40979046 (calculated in 5.4836273193359375e-05 seconds)\n"
     ]
    }
   ],
   "source": [
    "def exponential_1(x):\n",
    "    i=1\n",
    "    exp=1\n",
    "    X=1\n",
    "    while abs(X)>0:\n",
    "        X=(x/i)*X\n",
    "        exp=exp+X\n",
    "        i=i+1\n",
    "    return exp\n",
    "exponential_1(2)\n",
    "\n",
    "xv = [0.1, 20]\n",
    "for x in xv:\n",
    "        start_time = time.time()  # Start timing\n",
    "        result = exponential_1(x)\n",
    "        end_time = time.time()  # End timing\n",
    "        \n",
    "        elapsed_time = end_time - start_time\n",
    "        print(f\"e^{x} = {result} (calculated in {elapsed_time} seconds)\")\n"
   ]
  },
  {
   "cell_type": "markdown",
   "metadata": {},
   "source": [
    "## <span style=\"color: red;\"> 2 </span>"
   ]
  },
  {
   "cell_type": "markdown",
   "metadata": {},
   "source": [
    "Clearly the second function $exponential1()$ is faster than $exponential()$ function by nearly 2 orders of magnitude\n",
    "\n",
    "(6.6)"
   ]
  },
  {
   "cell_type": "code",
   "execution_count": 225,
   "metadata": {},
   "outputs": [
    {
     "name": "stdout",
     "output_type": "stream",
     "text": [
      "First exponential function value at x=0.1 is 1.1051709180756473\n",
      "Second exponential function value at x=0.1 is 1.1051709180756473\n",
      "Numpy exponential value at x=0.1 is 1.1051709180756477\n",
      "First exponential function value at x=20 is 485165195.40979016\n",
      "Second exponential function value at x=20 is 485165195.40979046\n",
      "Numpy exponential value at x=20 is 485165195.4097903\n"
     ]
    }
   ],
   "source": [
    "import numpy as np\n",
    "print('First exponential function value at x=0.1 is',exponential(0.1))\n",
    "print('Second exponential function value at x=0.1 is',exponential_1(0.1))\n",
    "print('Numpy exponential value at x=0.1 is',np.exp(0.1))\n",
    "print('First exponential function value at x=20 is',exponential(20))\n",
    "print('Second exponential function value at x=20 is',exponential_1(20))\n",
    "print('Numpy exponential value at x=20 is',np.exp(20))"
   ]
  },
  {
   "cell_type": "markdown",
   "metadata": {},
   "source": [
    "## <span style=\"color: red;\"> 2 </span>"
   ]
  },
  {
   "cell_type": "markdown",
   "metadata": {},
   "source": [
    "Discrepancy in both the functions happens at 16th place for $e^{0.1}$ and at 7th place for $e^{20}$.\n",
    "\n",
    "(6.7)"
   ]
  },
  {
   "cell_type": "code",
   "execution_count": 221,
   "metadata": {},
   "outputs": [
    {
     "name": "stdout",
     "output_type": "stream",
     "text": [
      "The turning point is at m = 19\n"
     ]
    },
    {
     "data": {
      "text/plain": [
       "485165195.40979046"
      ]
     },
     "execution_count": 221,
     "metadata": {},
     "output_type": "execute_result"
    },
    {
     "data": {
      "image/png": "[encoded data removed]",
      "text/plain": [
       "<Figure size 640x480 with 1 Axes>"
      ]
     },
     "metadata": {},
     "output_type": "display_data"
    }
   ],
   "source": [
    "def exponential_2(x):\n",
    "    i=1\n",
    "    exp=1\n",
    "    X=1\n",
    "    y=[1]\n",
    "    m=[0]\n",
    "    while abs(X)>0:\n",
    "        X=(x/i)*X\n",
    "        y.append(X)\n",
    "        m.append(i)\n",
    "        exp=exp+X\n",
    "        i=i+1\n",
    "\n",
    "    y=np.array(y)\n",
    "    m=np.array(m)\n",
    "    plt.plot(m,y, color='blue', label='$X_n$ vs $n$ plot')\n",
    "    plt.xlabel('$n$', fontsize=15)\n",
    "    plt.ylabel('$X_n$', fontsize=15)\n",
    "    plt.legend()\n",
    "    print('The turning point is at m =', m[np.argmax(y)])\n",
    "    return exp\n",
    "exponential_2(20)\n",
    "    "
   ]
  },
  {
   "cell_type": "markdown",
   "metadata": {},
   "source": [
    "## <span style=\"color: red;\"> (10)  remember to make plot beautifully.(You can put xlim , grid , and scatter plot for every term  </span>"
   ]
  },
  {
   "cell_type": "markdown",
   "metadata": {},
   "source": [
    "(6.8)"
   ]
  },
  {
   "cell_type": "code",
   "execution_count": 222,
   "metadata": {},
   "outputs": [
    {
     "name": "stdout",
     "output_type": "stream",
     "text": [
      "The turning point is at m = 20\n"
     ]
    },
    {
     "data": {
      "text/plain": [
       "6.147561828914626e-09"
      ]
     },
     "execution_count": 222,
     "metadata": {},
     "output_type": "execute_result"
    },
    {
     "data": {
      "image/png": "[encoded data removed]",
      "text/plain": [
       "<Figure size 640x480 with 1 Axes>"
      ]
     },
     "metadata": {},
     "output_type": "display_data"
    }
   ],
   "source": [
    "exponential_2(-20)"
   ]
  },
  {
   "cell_type": "code",
   "execution_count": 164,
   "metadata": {},
   "outputs": [
    {
     "data": {
      "text/plain": [
       "2.061153622438558e-09"
      ]
     },
     "execution_count": 164,
     "metadata": {},
     "output_type": "execute_result"
    }
   ],
   "source": [
    "np.exp(-20)"
   ]
  },
  {
   "cell_type": "markdown",
   "metadata": {},
   "source": [
    "Clearly my result is very inaccurate. The reson can be seen from the plot of my partial summs which are fluctuating between positive and negative values which are close to each other, During calculating hence we are subtracting two numbers very close in magnitude hence it causes error. In order to correct it we will try to work with positive nos. "
   ]
  },
  {
   "cell_type": "markdown",
   "metadata": {},
   "source": [
    "## <span style=\"color: red;\"> (8)  To show how your answer is accurarte you have calculate the % error . inaccurarte is not an answer.  </span>"
   ]
  },
  {
   "cell_type": "markdown",
   "metadata": {},
   "source": [
    "(6.9)\n",
    "Here is the correct function which is accurate for negative x as well this is based on the idea that\n",
    "\n",
    "$1/{exp(x)}=exp(-x)$"
   ]
  },
  {
   "cell_type": "code",
   "execution_count": 183,
   "metadata": {},
   "outputs": [
    {
     "data": {
      "text/plain": [
       "2.061153622438557e-09"
      ]
     },
     "execution_count": 183,
     "metadata": {},
     "output_type": "execute_result"
    }
   ],
   "source": [
    "def exponential_new(x):\n",
    "    i=1\n",
    "    exp=1\n",
    "    X=1\n",
    "    if x<0:\n",
    "     x=-x\n",
    "     while abs(X)>0:\n",
    "      X=(x/i)*X\n",
    "      exp=exp+X\n",
    "      i=i+1\n",
    "     return 1/exp\n",
    "    else:\n",
    "      while abs(X)>0:\n",
    "       X=(x/i)*X\n",
    "       exp=exp+X\n",
    "       i=i+1\n",
    "      return exp\n",
    "\n",
    "\n",
    "exponential_new(-20)"
   ]
  },
  {
   "cell_type": "markdown",
   "metadata": {},
   "source": [
    "Now our result is very accurate as now we don't encounter negative numbers i.e we don't have to subtract any numbers in the process."
   ]
  },
  {
   "cell_type": "markdown",
   "metadata": {},
   "source": [
    "## <span style=\"color: red;\"> 2 </span>"
   ]
  },
  {
   "cell_type": "markdown",
   "metadata": {},
   "source": []
  }
 ],
 "metadata": {
  "kernelspec": {
   "display_name": "shear_env",
   "language": "python",
   "name": "python3"
  },
  "language_info": {
   "codemirror_mode": {
    "name": "ipython",
    "version": 3
   },
   "file_extension": ".py",
   "mimetype": "text/x-python",
   "name": "python",
   "nbconvert_exporter": "python",
   "pygments_lexer": "ipython3",
   "version": "3.9.20"
  }
 },
 "nbformat": 4,
 "nbformat_minor": 2
}
